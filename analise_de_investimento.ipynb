{
 "cells": [
  {
   "cell_type": "code",
   "execution_count": null,
   "metadata": {},
   "outputs": [],
   "source": [
    "# @title Texto de título padrão\n",
    "%pip install pandas\n",
    "%pip install matplotlib\n",
    "%pip install yfinance\n",
    "%pip install mplcyberpunk"
   ]
  },
  {
   "cell_type": "code",
   "execution_count": null,
   "metadata": {},
   "outputs": [],
   "source": [
    "import pandas as pd\n",
    "import yfinance as yf\n",
    "import matplotlib.pyplot as plt\n",
    "import mplcyberpunk"
   ]
  },
  {
   "cell_type": "code",
   "execution_count": null,
   "metadata": {},
   "outputs": [],
   "source": [
    "tickers = [\"^BVSP\", \"^GSPC\", \"BRL=X\"]\n",
    "\n",
    "dados_mercado = yf.download(tickers, period = '6mo')\n",
    "dados_mercado = dados_mercado[\"Adj Close\"]\n",
    "dados_mercado.head(50)\n",
    "dados_mercado = dados_mercado.dropna()"
   ]
  },
  {
   "cell_type": "code",
   "execution_count": null,
   "metadata": {},
   "outputs": [],
   "source": [
    "dados_mercado.columns = ['DOLAR', 'IBOVESPA', 'S&P500']\n",
    "plt.style.use('cyberpunk')"
   ]
  },
  {
   "cell_type": "code",
   "execution_count": null,
   "metadata": {},
   "outputs": [],
   "source": [
    "plt.plot(dados_mercado['IBOVESPA'])\n",
    "plt.title('IBOVESPA')\n",
    "plt.show()\n",
    "\n",
    "plt.savefig('ibovespa.png')"
   ]
  },
  {
   "cell_type": "code",
   "execution_count": null,
   "metadata": {},
   "outputs": [],
   "source": [
    "plt.plot(dados_mercado['DOLAR'])\n",
    "plt.title('DOLAR')\n",
    "plt.show()\n",
    "\n",
    "plt.savefig('dolar.png')"
   ]
  },
  {
   "cell_type": "code",
   "execution_count": null,
   "metadata": {},
   "outputs": [],
   "source": [
    "plt.plot(dados_mercado['S&P500'])\n",
    "plt.title('S&P500')\n",
    "plt.show()\n",
    "\n",
    "plt.savefig('sp500.png')"
   ]
  },
  {
   "cell_type": "code",
   "execution_count": null,
   "metadata": {},
   "outputs": [],
   "source": [
    "retornos_diarios = dados_mercado.pct_change(periods= 5)\n",
    "retornos_diarios = retornos_diarios.head(10)\n",
    "retornos_diarios"
   ]
  },
  {
   "cell_type": "code",
   "execution_count": null,
   "metadata": {},
   "outputs": [],
   "source": [
    "retorno_dolar = retornos_diarios['DOLAR'].iloc[-1]\n",
    "retorno_sp500 = retornos_diarios['S&P500'].iloc[-1]\n",
    "retorno_ibovespa = retornos_diarios['IBOVESPA'].iloc[-1]"
   ]
  },
  {
   "cell_type": "code",
   "execution_count": null,
   "metadata": {},
   "outputs": [],
   "source": [
    "retorno_dolar = float(retorno_dolar *100)\n",
    "retorno_so500 = float(retorno_sp500 *100)\n",
    "retorno_ibovespa = float(retorno_ibovespa *100)"
   ]
  }
 ],
 "metadata": {
  "kernelspec": {
   "display_name": "Python 3",
   "language": "python",
   "name": "python3"
  },
  "language_info": {
   "name": "python",
   "version": "3.11.5"
  }
 },
 "nbformat": 4,
 "nbformat_minor": 2
}
